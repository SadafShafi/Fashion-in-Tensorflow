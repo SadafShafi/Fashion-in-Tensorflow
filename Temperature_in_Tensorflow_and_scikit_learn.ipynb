{
  "nbformat": 4,
  "nbformat_minor": 0,
  "metadata": {
    "colab": {
      "name": "Temperature in Tensorflow and scikit learn.ipynb",
      "provenance": [],
      "authorship_tag": "ABX9TyNuipLNn/mu6fMsz99FU1uU",
      "include_colab_link": true
    },
    "kernelspec": {
      "name": "python3",
      "display_name": "Python 3"
    }
  },
  "cells": [
    {
      "cell_type": "markdown",
      "metadata": {
        "id": "view-in-github",
        "colab_type": "text"
      },
      "source": [
        "<a href=\"https://colab.research.google.com/github/SadafShafi/Fashion-in-Tensorflow/blob/main/Temperature_in_Tensorflow_and_scikit_learn.ipynb\" target=\"_parent\"><img src=\"https://colab.research.google.com/assets/colab-badge.svg\" alt=\"Open In Colab\"/></a>"
      ]
    },
    {
      "cell_type": "code",
      "metadata": {
        "id": "jTAecdr6BNwc",
        "outputId": "9c83ef6a-ccb6-4489-ea20-4497f2de6e97",
        "colab": {
          "base_uri": "https://localhost:8080/",
          "height": 171
        }
      },
      "source": [
        "import tensorflow as tf\n",
        "import numpy as np\n",
        "import logging\n",
        "logger = tf.get_logger()\n",
        "logger.setLevel(logging.ERROR)\n",
        "\n",
        "celsius_q    = np.array([-40, -10,  0,  8, 15, 22,  38],  dtype=float)\n",
        "fahrenheit_a = np.array([-40,  14, 32, 46, 59, 72, 100],  dtype=float)\n",
        "\n",
        "# for i,c in enumerate(celsius_q):\n",
        "#   print(\"{} degrees Celsius = {} degrees Fahrenheit\".format(c, fahrenheit_a[i]))\n",
        "\n",
        "\n",
        "l0 = tf.keras.layers.Dense(units=1, input_shape=[1])\n",
        "model = tf.keras.Sequential([l0])\n",
        "model.compile(loss='mean_squared_error',\n",
        "              optimizer=tf.keras.optimizers.Adam(0.1))\n",
        "\n",
        "history = model.fit(celsius_q, fahrenheit_a, epochs=500, verbose=False)\n",
        "# print(\"Finished training the model\")\n",
        "\n",
        "# import matplotlib.pyplot as plt\n",
        "# plt.xlabel('Epoch Number')\n",
        "# plt.ylabel(\"Loss Magnitude\")\n",
        "# plt.plot(history.history['loss'])\n",
        "\n",
        "print(model.predict([100.0]))\n",
        "print(\"\\n\\n\")\n",
        "# print(\"These are the layer variables: {}\".format(l0.get_weights()))\n",
        "\n",
        "'''\n",
        "l0 = tf.keras.layers.Dense(units=4, input_shape=[1])\n",
        "l1 = tf.keras.layers.Dense(units=4)\n",
        "l2 = tf.keras.layers.Dense(units=1)\n",
        "model = tf.keras.Sequential([l0, l1, l2])\n",
        "model.compile(loss='mean_squared_error', optimizer=tf.keras.optimizers.Adam(0.1))\n",
        "model.fit(celsius_q, fahrenheit_a, epochs=500, verbose=False)\n",
        "print(\"Finished training the model\")\n",
        "print(model.predict([100.0]))\n",
        "print(\"Model predicts that 100 degrees Celsius is: {} degrees Fahrenheit\".format(model.predict([100.0])))\n",
        "print(\"These are the l0 variables: {}\".format(l0.get_weights()))\n",
        "print(\"These are the l1 variables: {}\".format(l1.get_weights()))\n",
        "print(\"These are the l2 variables: {}\".format(l2.get_weights()))\n",
        "'''"
      ],
      "execution_count": 4,
      "outputs": [
        {
          "output_type": "stream",
          "text": [
            "[[211.33617]]\n",
            "\n",
            "\n",
            "\n"
          ],
          "name": "stdout"
        },
        {
          "output_type": "execute_result",
          "data": {
            "application/vnd.google.colaboratory.intrinsic+json": {
              "type": "string"
            },
            "text/plain": [
              "'\\nl0 = tf.keras.layers.Dense(units=4, input_shape=[1])\\nl1 = tf.keras.layers.Dense(units=4)\\nl2 = tf.keras.layers.Dense(units=1)\\nmodel = tf.keras.Sequential([l0, l1, l2])\\nmodel.compile(loss=\\'mean_squared_error\\', optimizer=tf.keras.optimizers.Adam(0.1))\\nmodel.fit(celsius_q, fahrenheit_a, epochs=500, verbose=False)\\nprint(\"Finished training the model\")\\nprint(model.predict([100.0]))\\nprint(\"Model predicts that 100 degrees Celsius is: {} degrees Fahrenheit\".format(model.predict([100.0])))\\nprint(\"These are the l0 variables: {}\".format(l0.get_weights()))\\nprint(\"These are the l1 variables: {}\".format(l1.get_weights()))\\nprint(\"These are the l2 variables: {}\".format(l2.get_weights()))\\n'"
            ]
          },
          "metadata": {
            "tags": []
          },
          "execution_count": 4
        }
      ]
    },
    {
      "cell_type": "code",
      "metadata": {
        "id": "Jc6Vqz31B8oX",
        "outputId": "1f5525c6-b96c-4f94-e795-64717ddb0ce1",
        "colab": {
          "base_uri": "https://localhost:8080/",
          "height": 34
        }
      },
      "source": [
        "from sklearn import linear_model\n",
        "reg = linear_model.LinearRegression()\n",
        "\n",
        "reg.fit(celsius_q.reshape(-1, 1),fahrenheit_a.reshape(-1, 1))\n",
        "reg.predict(np.array([100.0]).reshape(-1, 1))"
      ],
      "execution_count": 9,
      "outputs": [
        {
          "output_type": "execute_result",
          "data": {
            "text/plain": [
              "array([[211.74743638]])"
            ]
          },
          "metadata": {
            "tags": []
          },
          "execution_count": 9
        }
      ]
    }
  ]
}